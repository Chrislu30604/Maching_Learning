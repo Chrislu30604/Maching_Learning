{
 "cells": [
  {
   "cell_type": "code",
   "execution_count": 1,
   "metadata": {},
   "outputs": [],
   "source": [
    "from keras.utils import np_utils\n",
    "import numpy as np\n",
    "np.random.seed(10)"
   ]
  },
  {
   "cell_type": "code",
   "execution_count": 2,
   "metadata": {},
   "outputs": [],
   "source": [
    "from keras.datasets import mnist\n",
    "(x_train_image, y_train_label),\\\n",
    "(x_test_image, y_test_label) = mnist.load_data()"
   ]
  },
  {
   "cell_type": "markdown",
   "metadata": {},
   "source": [
    "## preprocessing"
   ]
  },
  {
   "cell_type": "code",
   "execution_count": 16,
   "metadata": {},
   "outputs": [],
   "source": [
    "# unfold\n",
    "x_Train = x_train_image.reshape(60000, 784).astype('float32')\n",
    "x_Test = x_test_image.reshape(10000, 784).astype('float32')\n",
    "# Normalize\n",
    "x_Train_normalize = x_Train / 255\n",
    "x_Test_normalize = x_Test / 255"
   ]
  },
  {
   "cell_type": "code",
   "execution_count": 17,
   "metadata": {},
   "outputs": [],
   "source": [
    "# One-hot encoding\n",
    "y_Train_OneHot = np_utils.to_categorical(y_train_label)\n",
    "y_Test_OneHot = np_utils.to_categorical(y_test_label)"
   ]
  },
  {
   "cell_type": "markdown",
   "metadata": {},
   "source": [
    "## Build Model"
   ]
  },
  {
   "cell_type": "code",
   "execution_count": 18,
   "metadata": {},
   "outputs": [],
   "source": [
    "from keras.models import Sequential\n",
    "from keras.layers import Dense"
   ]
  },
  {
   "cell_type": "code",
   "execution_count": 19,
   "metadata": {},
   "outputs": [],
   "source": [
    "# Sequential model\n",
    "model = Sequential()"
   ]
  },
  {
   "cell_type": "code",
   "execution_count": 20,
   "metadata": {},
   "outputs": [],
   "source": [
    "model.add(Dense(units=256,\n",
    "                input_dim=784,\n",
    "                kernel_initializer='normal', ## Normal distribution \n",
    "                activation='relu'))"
   ]
  },
  {
   "cell_type": "code",
   "execution_count": 21,
   "metadata": {},
   "outputs": [],
   "source": [
    "model.add(Dense(units=10,\n",
    "                kernel_initializer='normal',\n",
    "                activation='softmax'))"
   ]
  },
  {
   "cell_type": "code",
   "execution_count": 22,
   "metadata": {},
   "outputs": [
    {
     "name": "stdout",
     "output_type": "stream",
     "text": [
      "_________________________________________________________________\n",
      "Layer (type)                 Output Shape              Param #   \n",
      "=================================================================\n",
      "dense_3 (Dense)              (None, 256)               200960    \n",
      "_________________________________________________________________\n",
      "dense_4 (Dense)              (None, 10)                2570      \n",
      "=================================================================\n",
      "Total params: 203,530\n",
      "Trainable params: 203,530\n",
      "Non-trainable params: 0\n",
      "_________________________________________________________________\n",
      "None\n"
     ]
    }
   ],
   "source": [
    "print(model.summary())"
   ]
  },
  {
   "cell_type": "markdown",
   "metadata": {},
   "source": [
    "## Training"
   ]
  },
  {
   "cell_type": "code",
   "execution_count": 23,
   "metadata": {},
   "outputs": [],
   "source": [
    "model.compile(loss='categorical_crossentropy',\n",
    "              optimizer='adam', metrics=['accuracy'])"
   ]
  },
  {
   "cell_type": "code",
   "execution_count": 31,
   "metadata": {},
   "outputs": [
    {
     "name": "stdout",
     "output_type": "stream",
     "text": [
      "Train on 48000 samples, validate on 12000 samples\n",
      "Epoch 1/10\n",
      " - 2s - loss: 0.4510 - acc: 0.8785 - val_loss: 0.2238 - val_acc: 0.9394\n",
      "Epoch 2/10\n",
      " - 1s - loss: 0.1955 - acc: 0.9444 - val_loss: 0.1612 - val_acc: 0.9550\n",
      "Epoch 3/10\n",
      " - 1s - loss: 0.1371 - acc: 0.9610 - val_loss: 0.1278 - val_acc: 0.9633\n",
      "Epoch 4/10\n",
      " - 1s - loss: 0.1032 - acc: 0.9705 - val_loss: 0.1153 - val_acc: 0.9652\n",
      "Epoch 5/10\n",
      " - 1s - loss: 0.0814 - acc: 0.9774 - val_loss: 0.1012 - val_acc: 0.9687\n",
      "Epoch 6/10\n",
      " - 1s - loss: 0.0661 - acc: 0.9818 - val_loss: 0.0993 - val_acc: 0.9688\n",
      "Epoch 7/10\n",
      " - 1s - loss: 0.0544 - acc: 0.9849 - val_loss: 0.0874 - val_acc: 0.9730\n",
      "Epoch 8/10\n",
      " - 1s - loss: 0.0451 - acc: 0.9880 - val_loss: 0.0835 - val_acc: 0.9746\n",
      "Epoch 9/10\n",
      " - 1s - loss: 0.0364 - acc: 0.9906 - val_loss: 0.0811 - val_acc: 0.9743\n",
      "Epoch 10/10\n",
      " - 1s - loss: 0.0305 - acc: 0.9925 - val_loss: 0.0818 - val_acc: 0.9749\n"
     ]
    }
   ],
   "source": [
    "# Start training\n",
    "train_history = model.fit(x=x_Train_normalize,\n",
    "                          y=y_Train_OneHot, validation_split=0.2, # 0.8:training 0.2 validation\n",
    "                          epochs=10, batch_size=200, verbose=2)  # 10 training periodic\n",
    "# 48000 / 200 = 240 training times"
   ]
  },
  {
   "cell_type": "code",
   "execution_count": 32,
   "metadata": {},
   "outputs": [],
   "source": [
    "import matplotlib.pylab as plt\n",
    "def show_train_history(train_history, train, validation):\n",
    "    plt.plot(train_history.history[train])\n",
    "    plt.plot(train_history.history[validation])\n",
    "    plt.title(\"Train History\")\n",
    "    plt.ylabel(train)\n",
    "    plt.xlabel('Epoch')\n",
    "    plt.legend(['train', 'validation'], loc='upper left')\n",
    "    plt.show()\n"
   ]
  },
  {
   "cell_type": "code",
   "execution_count": 33,
   "metadata": {},
   "outputs": [
    {
     "data": {
      "image/png": "[encoded data removed]",
      "text/plain": [
       "<Figure size 432x288 with 1 Axes>"
      ]
     },
     "metadata": {},
     "output_type": "display_data"
    }
   ],
   "source": [
    "show_train_history(train_history, 'acc', 'val_acc')"
   ]
  },
  {
   "cell_type": "code",
   "execution_count": 34,
   "metadata": {},
   "outputs": [
    {
     "data": {
      "image/png": "[encoded data removed]",
      "text/plain": [
       "<Figure size 432x288 with 1 Axes>"
      ]
     },
     "metadata": {},
     "output_type": "display_data"
    }
   ],
   "source": [
    "show_train_history(train_history, 'loss', 'val_loss')"
   ]
  },
  {
   "cell_type": "markdown",
   "metadata": {},
   "source": [
    "## Prediction"
   ]
  },
  {
   "cell_type": "code",
   "execution_count": 35,
   "metadata": {},
   "outputs": [
    {
     "name": "stdout",
     "output_type": "stream",
     "text": [
      "10000/10000 [==============================] - 0s 29us/step\n",
      "\n",
      "accuracy= 0.9773\n"
     ]
    }
   ],
   "source": [
    "scores = model.evaluate(x_Test_normalize, y_Test_OneHot)\n",
    "print()\n",
    "print('accuracy=',scores[1])"
   ]
  },
  {
   "cell_type": "code",
   "execution_count": 36,
   "metadata": {},
   "outputs": [],
   "source": [
    "prediction=model.predict_classes(x_Test)"
   ]
  },
  {
   "cell_type": "code",
   "execution_count": 37,
   "metadata": {},
   "outputs": [
    {
     "data": {
      "text/plain": [
       "array([7, 2, 1, ..., 4, 5, 6])"
      ]
     },
     "execution_count": 37,
     "metadata": {},
     "output_type": "execute_result"
    }
   ],
   "source": [
    "prediction"
   ]
  },
  {
   "cell_type": "code",
   "execution_count": 40,
   "metadata": {},
   "outputs": [],
   "source": [
    "# use plot_images_labels_prediction\n",
    "def plot_images_labels_prediction(images, labels, prediction, idx, num=10):\n",
    "    fig = plt.gcf()\n",
    "    fig.set_size_inches(12, 14)\n",
    "    if num > 25 : num = 25\n",
    "    for i in range(0, num):\n",
    "        ax = plt.subplot(5, 5, 1 + i)\n",
    "        ax.imshow(images[idx], cmap='binary')\n",
    "        title = \"label=\" + str(labels[idx])\n",
    "        if len(prediction) > 0 :\n",
    "            title += \",predict=\" + str(prediction[idx])\n",
    "        ax.set_title(title, fontsize=10)\n",
    "        ax.set_xticks([]); ax.set_yticks([])\n",
    "        idx += 1\n",
    "    plt.show()\n"
   ]
  },
  {
   "cell_type": "code",
   "execution_count": 41,
   "metadata": {},
   "outputs": [
    {
     "data": {
      "image/png": "[encoded data removed]",
      "text/plain": [
       "<Figure size 864x1008 with 10 Axes>"
      ]
     },
     "metadata": {},
     "output_type": "display_data"
    }
   ],
   "source": [
    "plot_images_labels_prediction(x_test_image, y_test_label, prediction, idx=340)"
   ]
  },
  {
   "cell_type": "markdown",
   "metadata": {},
   "source": [
    "## Confusion maxtrix"
   ]
  },
  {
   "cell_type": "code",
   "execution_count": 42,
   "metadata": {},
   "outputs": [
    {
     "data": {
      "text/html": [
       "<div>\n",
       "<style scoped>\n",
       "    .dataframe tbody tr th:only-of-type {\n",
       "        vertical-align: middle;\n",
       "    }\n",
       "\n",
       "    .dataframe tbody tr th {\n",
       "        vertical-align: top;\n",
       "    }\n",
       "\n",
       "    .dataframe thead th {\n",
       "        text-align: right;\n",
       "    }\n",
       "</style>\n",
       "<table border=\"1\" class=\"dataframe\">\n",
       "  <thead>\n",
       "    <tr style=\"text-align: right;\">\n",
       "      <th>predict</th>\n",
       "      <th>0</th>\n",
       "      <th>1</th>\n",
       "      <th>2</th>\n",
       "      <th>3</th>\n",
       "      <th>4</th>\n",
       "      <th>5</th>\n",
       "      <th>6</th>\n",
       "      <th>7</th>\n",
       "      <th>8</th>\n",
       "      <th>9</th>\n",
       "    </tr>\n",
       "    <tr>\n",
       "      <th>label</th>\n",
       "      <th></th>\n",
       "      <th></th>\n",
       "      <th></th>\n",
       "      <th></th>\n",
       "      <th></th>\n",
       "      <th></th>\n",
       "      <th></th>\n",
       "      <th></th>\n",
       "      <th></th>\n",
       "      <th></th>\n",
       "    </tr>\n",
       "  </thead>\n",
       "  <tbody>\n",
       "    <tr>\n",
       "      <th>0</th>\n",
       "      <td>969</td>\n",
       "      <td>0</td>\n",
       "      <td>0</td>\n",
       "      <td>2</td>\n",
       "      <td>1</td>\n",
       "      <td>1</td>\n",
       "      <td>2</td>\n",
       "      <td>1</td>\n",
       "      <td>1</td>\n",
       "      <td>3</td>\n",
       "    </tr>\n",
       "    <tr>\n",
       "      <th>1</th>\n",
       "      <td>0</td>\n",
       "      <td>1114</td>\n",
       "      <td>4</td>\n",
       "      <td>0</td>\n",
       "      <td>0</td>\n",
       "      <td>1</td>\n",
       "      <td>3</td>\n",
       "      <td>1</td>\n",
       "      <td>12</td>\n",
       "      <td>0</td>\n",
       "    </tr>\n",
       "    <tr>\n",
       "      <th>2</th>\n",
       "      <td>6</td>\n",
       "      <td>0</td>\n",
       "      <td>1006</td>\n",
       "      <td>3</td>\n",
       "      <td>1</td>\n",
       "      <td>0</td>\n",
       "      <td>2</td>\n",
       "      <td>5</td>\n",
       "      <td>9</td>\n",
       "      <td>0</td>\n",
       "    </tr>\n",
       "    <tr>\n",
       "      <th>3</th>\n",
       "      <td>0</td>\n",
       "      <td>0</td>\n",
       "      <td>2</td>\n",
       "      <td>988</td>\n",
       "      <td>0</td>\n",
       "      <td>4</td>\n",
       "      <td>0</td>\n",
       "      <td>4</td>\n",
       "      <td>5</td>\n",
       "      <td>7</td>\n",
       "    </tr>\n",
       "    <tr>\n",
       "      <th>4</th>\n",
       "      <td>1</td>\n",
       "      <td>0</td>\n",
       "      <td>3</td>\n",
       "      <td>0</td>\n",
       "      <td>959</td>\n",
       "      <td>0</td>\n",
       "      <td>4</td>\n",
       "      <td>2</td>\n",
       "      <td>1</td>\n",
       "      <td>12</td>\n",
       "    </tr>\n",
       "    <tr>\n",
       "      <th>5</th>\n",
       "      <td>2</td>\n",
       "      <td>0</td>\n",
       "      <td>0</td>\n",
       "      <td>10</td>\n",
       "      <td>1</td>\n",
       "      <td>861</td>\n",
       "      <td>5</td>\n",
       "      <td>2</td>\n",
       "      <td>7</td>\n",
       "      <td>4</td>\n",
       "    </tr>\n",
       "    <tr>\n",
       "      <th>6</th>\n",
       "      <td>7</td>\n",
       "      <td>2</td>\n",
       "      <td>1</td>\n",
       "      <td>1</td>\n",
       "      <td>3</td>\n",
       "      <td>3</td>\n",
       "      <td>938</td>\n",
       "      <td>0</td>\n",
       "      <td>3</td>\n",
       "      <td>0</td>\n",
       "    </tr>\n",
       "    <tr>\n",
       "      <th>7</th>\n",
       "      <td>2</td>\n",
       "      <td>1</td>\n",
       "      <td>9</td>\n",
       "      <td>5</td>\n",
       "      <td>0</td>\n",
       "      <td>0</td>\n",
       "      <td>0</td>\n",
       "      <td>997</td>\n",
       "      <td>3</td>\n",
       "      <td>11</td>\n",
       "    </tr>\n",
       "    <tr>\n",
       "      <th>8</th>\n",
       "      <td>6</td>\n",
       "      <td>0</td>\n",
       "      <td>4</td>\n",
       "      <td>5</td>\n",
       "      <td>4</td>\n",
       "      <td>1</td>\n",
       "      <td>2</td>\n",
       "      <td>2</td>\n",
       "      <td>947</td>\n",
       "      <td>3</td>\n",
       "    </tr>\n",
       "    <tr>\n",
       "      <th>9</th>\n",
       "      <td>3</td>\n",
       "      <td>2</td>\n",
       "      <td>1</td>\n",
       "      <td>3</td>\n",
       "      <td>8</td>\n",
       "      <td>2</td>\n",
       "      <td>0</td>\n",
       "      <td>3</td>\n",
       "      <td>0</td>\n",
       "      <td>987</td>\n",
       "    </tr>\n",
       "  </tbody>\n",
       "</table>\n",
       "</div>"
      ],
      "text/plain": [
       "predict    0     1     2    3    4    5    6    7    8    9\n",
       "label                                                      \n",
       "0        969     0     0    2    1    1    2    1    1    3\n",
       "1          0  1114     4    0    0    1    3    1   12    0\n",
       "2          6     0  1006    3    1    0    2    5    9    0\n",
       "3          0     0     2  988    0    4    0    4    5    7\n",
       "4          1     0     3    0  959    0    4    2    1   12\n",
       "5          2     0     0   10    1  861    5    2    7    4\n",
       "6          7     2     1    1    3    3  938    0    3    0\n",
       "7          2     1     9    5    0    0    0  997    3   11\n",
       "8          6     0     4    5    4    1    2    2  947    3\n",
       "9          3     2     1    3    8    2    0    3    0  987"
      ]
     },
     "execution_count": 42,
     "metadata": {},
     "output_type": "execute_result"
    }
   ],
   "source": [
    "import pandas as pd\n",
    "pd.crosstab(y_test_label, prediction,\n",
    "            rownames=['label'], colnames=['predict'])"
   ]
  },
  {
   "cell_type": "code",
   "execution_count": 43,
   "metadata": {},
   "outputs": [
    {
     "data": {
      "text/html": [
       "<div>\n",
       "<style scoped>\n",
       "    .dataframe tbody tr th:only-of-type {\n",
       "        vertical-align: middle;\n",
       "    }\n",
       "\n",
       "    .dataframe tbody tr th {\n",
       "        vertical-align: top;\n",
       "    }\n",
       "\n",
       "    .dataframe thead th {\n",
       "        text-align: right;\n",
       "    }\n",
       "</style>\n",
       "<table border=\"1\" class=\"dataframe\">\n",
       "  <thead>\n",
       "    <tr style=\"text-align: right;\">\n",
       "      <th></th>\n",
       "      <th>label</th>\n",
       "      <th>predict</th>\n",
       "    </tr>\n",
       "  </thead>\n",
       "  <tbody>\n",
       "    <tr>\n",
       "      <th>0</th>\n",
       "      <td>7</td>\n",
       "      <td>7</td>\n",
       "    </tr>\n",
       "    <tr>\n",
       "      <th>1</th>\n",
       "      <td>2</td>\n",
       "      <td>2</td>\n",
       "    </tr>\n",
       "  </tbody>\n",
       "</table>\n",
       "</div>"
      ],
      "text/plain": [
       "   label  predict\n",
       "0      7        7\n",
       "1      2        2"
      ]
     },
     "execution_count": 43,
     "metadata": {},
     "output_type": "execute_result"
    }
   ],
   "source": [
    "# 5 : but is predicted to 3\n",
    "df = pd.DataFrame({'label':y_test_label, 'predict':prediction})\n",
    "df[:2]"
   ]
  },
  {
   "cell_type": "code",
   "execution_count": 46,
   "metadata": {},
   "outputs": [
    {
     "data": {
      "text/html": [
       "<div>\n",
       "<style scoped>\n",
       "    .dataframe tbody tr th:only-of-type {\n",
       "        vertical-align: middle;\n",
       "    }\n",
       "\n",
       "    .dataframe tbody tr th {\n",
       "        vertical-align: top;\n",
       "    }\n",
       "\n",
       "    .dataframe thead th {\n",
       "        text-align: right;\n",
       "    }\n",
       "</style>\n",
       "<table border=\"1\" class=\"dataframe\">\n",
       "  <thead>\n",
       "    <tr style=\"text-align: right;\">\n",
       "      <th></th>\n",
       "      <th>label</th>\n",
       "      <th>predict</th>\n",
       "    </tr>\n",
       "  </thead>\n",
       "  <tbody>\n",
       "    <tr>\n",
       "      <th>340</th>\n",
       "      <td>5</td>\n",
       "      <td>3</td>\n",
       "    </tr>\n",
       "    <tr>\n",
       "      <th>1003</th>\n",
       "      <td>5</td>\n",
       "      <td>3</td>\n",
       "    </tr>\n",
       "    <tr>\n",
       "      <th>1393</th>\n",
       "      <td>5</td>\n",
       "      <td>3</td>\n",
       "    </tr>\n",
       "    <tr>\n",
       "      <th>1670</th>\n",
       "      <td>5</td>\n",
       "      <td>3</td>\n",
       "    </tr>\n",
       "    <tr>\n",
       "      <th>2035</th>\n",
       "      <td>5</td>\n",
       "      <td>3</td>\n",
       "    </tr>\n",
       "    <tr>\n",
       "      <th>2810</th>\n",
       "      <td>5</td>\n",
       "      <td>3</td>\n",
       "    </tr>\n",
       "    <tr>\n",
       "      <th>3902</th>\n",
       "      <td>5</td>\n",
       "      <td>3</td>\n",
       "    </tr>\n",
       "    <tr>\n",
       "      <th>5937</th>\n",
       "      <td>5</td>\n",
       "      <td>3</td>\n",
       "    </tr>\n",
       "    <tr>\n",
       "      <th>5972</th>\n",
       "      <td>5</td>\n",
       "      <td>3</td>\n",
       "    </tr>\n",
       "    <tr>\n",
       "      <th>9482</th>\n",
       "      <td>5</td>\n",
       "      <td>3</td>\n",
       "    </tr>\n",
       "  </tbody>\n",
       "</table>\n",
       "</div>"
      ],
      "text/plain": [
       "      label  predict\n",
       "340       5        3\n",
       "1003      5        3\n",
       "1393      5        3\n",
       "1670      5        3\n",
       "2035      5        3\n",
       "2810      5        3\n",
       "3902      5        3\n",
       "5937      5        3\n",
       "5972      5        3\n",
       "9482      5        3"
      ]
     },
     "execution_count": 46,
     "metadata": {},
     "output_type": "execute_result"
    }
   ],
   "source": [
    "df[(df.label==5)&(df.predict==3)]"
   ]
  },
  {
   "cell_type": "markdown",
   "metadata": {},
   "source": [
    "## Add Hidden Layer"
   ]
  },
  {
   "cell_type": "code",
   "execution_count": 48,
   "metadata": {},
   "outputs": [],
   "source": [
    "model2 = Sequential()\n",
    "model2.add(Dense(units=1000,\n",
    "                 input_dim=784,\n",
    "                 kernel_initializer='normal',\n",
    "                 activation='relu'))\n",
    "model2.add(Dense(units=10,\n",
    "                 kernel_initializer='normal',\n",
    "                 activation='softmax'))"
   ]
  },
  {
   "cell_type": "code",
   "execution_count": 50,
   "metadata": {},
   "outputs": [
    {
     "name": "stdout",
     "output_type": "stream",
     "text": [
      "_________________________________________________________________\n",
      "Layer (type)                 Output Shape              Param #   \n",
      "=================================================================\n",
      "dense_5 (Dense)              (None, 1000)              785000    \n",
      "_________________________________________________________________\n",
      "dense_6 (Dense)              (None, 10)                10010     \n",
      "=================================================================\n",
      "Total params: 795,010\n",
      "Trainable params: 795,010\n",
      "Non-trainable params: 0\n",
      "_________________________________________________________________\n",
      "None\n"
     ]
    }
   ],
   "source": [
    "print(model2.summary())"
   ]
  },
  {
   "cell_type": "code",
   "execution_count": 52,
   "metadata": {},
   "outputs": [
    {
     "name": "stdout",
     "output_type": "stream",
     "text": [
      "Train on 48000 samples, validate on 12000 samples\n",
      "Epoch 1/10\n",
      " - 5s - loss: 0.2905 - acc: 0.9162 - val_loss: 0.1536 - val_acc: 0.9562\n",
      "Epoch 2/10\n",
      " - 4s - loss: 0.1150 - acc: 0.9670 - val_loss: 0.1210 - val_acc: 0.9637\n",
      "Epoch 3/10\n",
      " - 4s - loss: 0.0738 - acc: 0.9792 - val_loss: 0.0923 - val_acc: 0.9734\n",
      "Epoch 4/10\n",
      " - 5s - loss: 0.0519 - acc: 0.9854 - val_loss: 0.0809 - val_acc: 0.9750\n",
      "Epoch 5/10\n",
      " - 4s - loss: 0.0360 - acc: 0.9903 - val_loss: 0.0831 - val_acc: 0.9753\n",
      "Epoch 6/10\n",
      " - 4s - loss: 0.0245 - acc: 0.9940 - val_loss: 0.0730 - val_acc: 0.9778\n",
      "Epoch 7/10\n",
      " - 4s - loss: 0.0185 - acc: 0.9952 - val_loss: 0.0727 - val_acc: 0.9779\n",
      "Epoch 8/10\n",
      " - 4s - loss: 0.0134 - acc: 0.9969 - val_loss: 0.0746 - val_acc: 0.9781\n",
      "Epoch 9/10\n",
      " - 4s - loss: 0.0098 - acc: 0.9981 - val_loss: 0.0725 - val_acc: 0.9792\n",
      "Epoch 10/10\n",
      " - 4s - loss: 0.0070 - acc: 0.9991 - val_loss: 0.0777 - val_acc: 0.9777\n"
     ]
    }
   ],
   "source": [
    "model2.compile(loss='categorical_crossentropy',\n",
    "               optimizer='adam', metrics=['accuracy'])\n",
    "\n",
    "train_history2 = model2.fit(x=x_Train_normalize,\n",
    "                            y=y_Train_OneHot, validation_split=0.2,\n",
    "                            epochs=10, batch_size=200, verbose=2)"
   ]
  },
  {
   "cell_type": "code",
   "execution_count": 53,
   "metadata": {},
   "outputs": [
    {
     "data": {
      "image/png": "[encoded data removed]",
      "text/plain": [
       "<Figure size 432x288 with 1 Axes>"
      ]
     },
     "metadata": {},
     "output_type": "display_data"
    }
   ],
   "source": [
    "show_train_history(train_history2, 'acc', 'val_acc')"
   ]
  },
  {
   "cell_type": "code",
   "execution_count": 54,
   "metadata": {},
   "outputs": [
    {
     "name": "stdout",
     "output_type": "stream",
     "text": [
      "10000/10000 [==============================] - 0s 32us/step\n",
      "\n",
      "accuracy= 0.9773\n"
     ]
    }
   ],
   "source": [
    "scores = model.evaluate(x_Test_normalize, y_Test_OneHot)\n",
    "print()\n",
    "print('accuracy=', scores[1])"
   ]
  },
  {
   "cell_type": "markdown",
   "metadata": {},
   "source": [
    "## Dropout => solve overfitting"
   ]
  },
  {
   "cell_type": "code",
   "execution_count": 55,
   "metadata": {},
   "outputs": [],
   "source": [
    "from keras.layers import Dropout\n",
    "model3 = Sequential()"
   ]
  },
  {
   "cell_type": "code",
   "execution_count": 57,
   "metadata": {},
   "outputs": [],
   "source": [
    "model3.add(Dense(units=1000,\n",
    "                 input_dim=784,\n",
    "                 kernel_initializer='normal',\n",
    "                 activation='relu'))\n",
    "model3.add(Dropout(0.5))\n",
    "model3.add(Dense(units=10,\n",
    "                kernel_initializer='normal',\n",
    "                activation='softmax'))"
   ]
  },
  {
   "cell_type": "code",
   "execution_count": 58,
   "metadata": {},
   "outputs": [
    {
     "name": "stdout",
     "output_type": "stream",
     "text": [
      "Train on 48000 samples, validate on 12000 samples\n",
      "Epoch 1/10\n",
      " - 10s - loss: 0.3675 - acc: 0.8853 - val_loss: 0.1413 - val_acc: 0.9572\n",
      "Epoch 2/10\n",
      " - 10s - loss: 0.1566 - acc: 0.9513 - val_loss: 0.0981 - val_acc: 0.9711\n",
      "Epoch 3/10\n",
      " - 10s - loss: 0.1232 - acc: 0.9623 - val_loss: 0.0898 - val_acc: 0.9727\n",
      "Epoch 4/10\n",
      " - 10s - loss: 0.0971 - acc: 0.9693 - val_loss: 0.0784 - val_acc: 0.9764\n",
      "Epoch 5/10\n",
      " - 10s - loss: 0.0856 - acc: 0.9728 - val_loss: 0.0721 - val_acc: 0.9779\n",
      "Epoch 6/10\n",
      " - 9s - loss: 0.0751 - acc: 0.9761 - val_loss: 0.0721 - val_acc: 0.9787\n",
      "Epoch 7/10\n",
      " - 10s - loss: 0.0687 - acc: 0.9782 - val_loss: 0.0688 - val_acc: 0.9802\n",
      "Epoch 8/10\n",
      " - 10s - loss: 0.0617 - acc: 0.9800 - val_loss: 0.0753 - val_acc: 0.9785\n",
      "Epoch 9/10\n",
      " - 10s - loss: 0.0576 - acc: 0.9819 - val_loss: 0.0722 - val_acc: 0.9792\n",
      "Epoch 10/10\n",
      " - 10s - loss: 0.0500 - acc: 0.9834 - val_loss: 0.0668 - val_acc: 0.9814\n"
     ]
    }
   ],
   "source": [
    "model3.compile(loss='categorical_crossentropy',\n",
    "               optimizer='adam', metrics=['accuracy'])\n",
    "\n",
    "train_history3 = model3.fit(x=x_Train_normalize,\n",
    "                            y=y_Train_OneHot, validation_split=0.2,\n",
    "                            epochs=10, batch_size=200, verbose=2)"
   ]
  },
  {
   "cell_type": "code",
   "execution_count": 59,
   "metadata": {},
   "outputs": [
    {
     "data": {
      "image/png": "[encoded data removed]",
      "text/plain": [
       "<Figure size 432x288 with 1 Axes>"
      ]
     },
     "metadata": {},
     "output_type": "display_data"
    }
   ],
   "source": [
    "show_train_history(train_history3, 'acc', 'val_acc')"
   ]
  },
  {
   "cell_type": "code",
   "execution_count": 60,
   "metadata": {},
   "outputs": [
    {
     "name": "stdout",
     "output_type": "stream",
     "text": [
      "10000/10000 [==============================] - 1s 92us/step\n",
      "\n",
      "accuracy= 0.9825\n"
     ]
    }
   ],
   "source": [
    "scores = model3.evaluate(x_Test_normalize, y_Test_OneHot)\n",
    "print()\n",
    "print('accuracy=', scores[1])"
   ]
  },
  {
   "cell_type": "markdown",
   "metadata": {},
   "source": [
    "## Multi Hidden Layer"
   ]
  },
  {
   "cell_type": "code",
   "execution_count": 61,
   "metadata": {},
   "outputs": [],
   "source": [
    "model_2 = Sequential()\n",
    "model_2.add(Dense(units=1000,\n",
    "                 input_dim=784,\n",
    "                 kernel_initializer='normal',\n",
    "                 activation='relu'))\n",
    "model_2.add(Dropout(0.5))\n",
    "model_2.add(Dense(units=1000,\n",
    "                 kernel_initializer='normal',\n",
    "                 activation='relu'))\n",
    "model_2.add(Dropout(0.5))\n",
    "model_2.add(Dense(units=10,\n",
    "                kernel_initializer='normal',\n",
    "                activation='softmax'))"
   ]
  },
  {
   "cell_type": "code",
   "execution_count": 62,
   "metadata": {},
   "outputs": [
    {
     "name": "stdout",
     "output_type": "stream",
     "text": [
      "_________________________________________________________________\n",
      "Layer (type)                 Output Shape              Param #   \n",
      "=================================================================\n",
      "dense_11 (Dense)             (None, 1000)              785000    \n",
      "_________________________________________________________________\n",
      "dropout_3 (Dropout)          (None, 1000)              0         \n",
      "_________________________________________________________________\n",
      "dense_12 (Dense)             (None, 1000)              1001000   \n",
      "_________________________________________________________________\n",
      "dropout_4 (Dropout)          (None, 1000)              0         \n",
      "_________________________________________________________________\n",
      "dense_13 (Dense)             (None, 10)                10010     \n",
      "=================================================================\n",
      "Total params: 1,796,010\n",
      "Trainable params: 1,796,010\n",
      "Non-trainable params: 0\n",
      "_________________________________________________________________\n",
      "None\n"
     ]
    }
   ],
   "source": [
    "print(model_2.summary())"
   ]
  },
  {
   "cell_type": "code",
   "execution_count": 63,
   "metadata": {},
   "outputs": [
    {
     "name": "stdout",
     "output_type": "stream",
     "text": [
      "Train on 48000 samples, validate on 12000 samples\n",
      "Epoch 1/10\n",
      " - 10s - loss: 0.3737 - acc: 0.8832 - val_loss: 0.1367 - val_acc: 0.9594\n",
      "Epoch 2/10\n",
      " - 10s - loss: 0.1600 - acc: 0.9500 - val_loss: 0.1011 - val_acc: 0.9681\n",
      "Epoch 3/10\n",
      " - 10s - loss: 0.1206 - acc: 0.9628 - val_loss: 0.0911 - val_acc: 0.9718\n",
      "Epoch 4/10\n",
      " - 10s - loss: 0.0982 - acc: 0.9697 - val_loss: 0.0794 - val_acc: 0.9761\n",
      "Epoch 5/10\n",
      " - 10s - loss: 0.0838 - acc: 0.9738 - val_loss: 0.0769 - val_acc: 0.9767\n",
      "Epoch 6/10\n",
      " - 10s - loss: 0.0774 - acc: 0.9751 - val_loss: 0.0747 - val_acc: 0.9780\n",
      "Epoch 7/10\n",
      " - 9s - loss: 0.0669 - acc: 0.9779 - val_loss: 0.0736 - val_acc: 0.9798\n",
      "Epoch 8/10\n",
      " - 9s - loss: 0.0623 - acc: 0.9802 - val_loss: 0.0738 - val_acc: 0.9778\n",
      "Epoch 9/10\n",
      " - 9s - loss: 0.0545 - acc: 0.9829 - val_loss: 0.0743 - val_acc: 0.9788\n",
      "Epoch 10/10\n",
      " - 9s - loss: 0.0517 - acc: 0.9834 - val_loss: 0.0743 - val_acc: 0.9794\n"
     ]
    }
   ],
   "source": [
    "model_2.compile(loss='categorical_crossentropy',\n",
    "               optimizer='adam', metrics=['accuracy'])\n",
    "\n",
    "train_history_2 = model_2.fit(x=x_Train_normalize,\n",
    "                            y=y_Train_OneHot, validation_split=0.2,\n",
    "                            epochs=10, batch_size=200, verbose=2)"
   ]
  },
  {
   "cell_type": "code",
   "execution_count": 66,
   "metadata": {},
   "outputs": [
    {
     "data": {
      "image/png": "[encoded data removed]",
      "text/plain": [
       "<Figure size 432x288 with 1 Axes>"
      ]
     },
     "metadata": {},
     "output_type": "display_data"
    }
   ],
   "source": [
    "show_train_history(train_history_2, 'acc', 'val_acc')"
   ]
  },
  {
   "cell_type": "code",
   "execution_count": 67,
   "metadata": {},
   "outputs": [
    {
     "name": "stdout",
     "output_type": "stream",
     "text": [
      "10000/10000 [==============================] - 1s 89us/step\n",
      "\n",
      "accuracy= 0.9813\n"
     ]
    }
   ],
   "source": [
    "scores = model_2.evaluate(x_Test_normalize, y_Test_OneHot)\n",
    "print()\n",
    "print('accuracy=', scores[1])"
   ]
  },
  {
   "cell_type": "code",
   "execution_count": null,
   "metadata": {},
   "outputs": [],
   "source": []
  }
 ],
 "metadata": {
  "kernelspec": {
   "display_name": "Python 3",
   "language": "python",
   "name": "python3"
  },
  "language_info": {
   "codemirror_mode": {
    "name": "ipython",
    "version": 3
   },
   "file_extension": ".py",
   "mimetype": "text/x-python",
   "name": "python",
   "nbconvert_exporter": "python",
   "pygments_lexer": "ipython3",
   "version": "3.6.5"
  }
 },
 "nbformat": 4,
 "nbformat_minor": 2
}
