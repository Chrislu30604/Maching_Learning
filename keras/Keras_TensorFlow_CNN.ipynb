{
 "cells": [
  {
   "cell_type": "markdown",
   "metadata": {},
   "source": [
    "# TensorFlow CNN Handle"
   ]
  },
  {
   "cell_type": "markdown",
   "metadata": {},
   "source": [
    "# Preprocess"
   ]
  },
  {
   "cell_type": "code",
   "execution_count": 1,
   "metadata": {},
   "outputs": [
    {
     "name": "stderr",
     "output_type": "stream",
     "text": [
      "/home/chrislu/anaconda3/lib/python3.6/site-packages/h5py/__init__.py:36: FutureWarning: Conversion of the second argument of issubdtype from `float` to `np.floating` is deprecated. In future, it will be treated as `np.float64 == np.dtype(float).type`.\n",
      "  from ._conv import register_converters as _register_converters\n"
     ]
    },
    {
     "name": "stdout",
     "output_type": "stream",
     "text": [
      "WARNING:tensorflow:From <ipython-input-1-2ee827ab903d>:4: read_data_sets (from tensorflow.contrib.learn.python.learn.datasets.mnist) is deprecated and will be removed in a future version.\n",
      "Instructions for updating:\n",
      "Please use alternatives such as official/mnist/dataset.py from tensorflow/models.\n",
      "WARNING:tensorflow:From /home/chrislu/anaconda3/lib/python3.6/site-packages/tensorflow/contrib/learn/python/learn/datasets/mnist.py:260: maybe_download (from tensorflow.contrib.learn.python.learn.datasets.base) is deprecated and will be removed in a future version.\n",
      "Instructions for updating:\n",
      "Please write your own downloading logic.\n",
      "WARNING:tensorflow:From /home/chrislu/anaconda3/lib/python3.6/site-packages/tensorflow/contrib/learn/python/learn/datasets/mnist.py:262: extract_images (from tensorflow.contrib.learn.python.learn.datasets.mnist) is deprecated and will be removed in a future version.\n",
      "Instructions for updating:\n",
      "Please use tf.data to implement this functionality.\n",
      "Extracting MNIST_data/train-images-idx3-ubyte.gz\n",
      "WARNING:tensorflow:From /home/chrislu/anaconda3/lib/python3.6/site-packages/tensorflow/contrib/learn/python/learn/datasets/mnist.py:267: extract_labels (from tensorflow.contrib.learn.python.learn.datasets.mnist) is deprecated and will be removed in a future version.\n",
      "Instructions for updating:\n",
      "Please use tf.data to implement this functionality.\n",
      "Extracting MNIST_data/train-labels-idx1-ubyte.gz\n",
      "WARNING:tensorflow:From /home/chrislu/anaconda3/lib/python3.6/site-packages/tensorflow/contrib/learn/python/learn/datasets/mnist.py:110: dense_to_one_hot (from tensorflow.contrib.learn.python.learn.datasets.mnist) is deprecated and will be removed in a future version.\n",
      "Instructions for updating:\n",
      "Please use tf.one_hot on tensors.\n",
      "Extracting MNIST_data/t10k-images-idx3-ubyte.gz\n",
      "Extracting MNIST_data/t10k-labels-idx1-ubyte.gz\n",
      "WARNING:tensorflow:From /home/chrislu/anaconda3/lib/python3.6/site-packages/tensorflow/contrib/learn/python/learn/datasets/mnist.py:290: DataSet.__init__ (from tensorflow.contrib.learn.python.learn.datasets.mnist) is deprecated and will be removed in a future version.\n",
      "Instructions for updating:\n",
      "Please use alternatives such as official/mnist/dataset.py from tensorflow/models.\n"
     ]
    }
   ],
   "source": [
    "import tensorflow as tf\n",
    "import tensorflow.examples.tutorials.mnist.input_data as input_data\n",
    "\n",
    "mnist = input_data.read_data_sets(\"MNIST_data/\", one_hot=True)\n"
   ]
  },
  {
   "cell_type": "code",
   "execution_count": 2,
   "metadata": {},
   "outputs": [],
   "source": [
    "#y_labels = mnist.train.labels\n",
    "#x_trains = mnist.train.images"
   ]
  },
  {
   "cell_type": "code",
   "execution_count": 3,
   "metadata": {},
   "outputs": [],
   "source": [
    "def weight(shape):\n",
    "    # stddev : 常態分佈標準差\n",
    "    return tf.Variable(tf.truncated_normal(shape, stddev=0.1), name=\"W\")\n",
    "\n",
    "def bias(shape):\n",
    "    return tf.Variable(tf.constant(0.1, shape=shape), name=\"b\")\n",
    "\n",
    "def conv2d(x , W):\n",
    "    # strides [1, stride, stride, 1]\n",
    "    return tf.nn.conv2d(x, W, strides=[1, 1, 1, 1], padding='SAME')\n",
    "\n",
    "def max_pool_2x2(x):\n",
    "    return tf.nn.max_pool(x, ksize=[1, 2, 2 ,1], strides=[1, 2, 2 ,1], padding='SAME')"
   ]
  },
  {
   "cell_type": "markdown",
   "metadata": {},
   "source": [
    "## Create Model"
   ]
  },
  {
   "cell_type": "code",
   "execution_count": 4,
   "metadata": {},
   "outputs": [
    {
     "name": "stdout",
     "output_type": "stream",
     "text": [
      "WARNING:tensorflow:From <ipython-input-4-b08d1647fcae>:54: softmax_cross_entropy_with_logits (from tensorflow.python.ops.nn_ops) is deprecated and will be removed in a future version.\n",
      "Instructions for updating:\n",
      "\n",
      "Future major versions of TensorFlow will allow gradients to flow\n",
      "into the labels input on backprop by default.\n",
      "\n",
      "See @{tf.nn.softmax_cross_entropy_with_logits_v2}.\n",
      "\n"
     ]
    }
   ],
   "source": [
    "# input layer\n",
    "with tf.name_scope('Input_Layer'):\n",
    "    x = tf.placeholder(\"float\", shape=[None, 784], name=\"x\")\n",
    "    x_image = tf.reshape(x, [-1, 28, 28, 1])\n",
    "    # -1 : don't know the input number\n",
    "    # 1  : gray\n",
    "\n",
    "# Conv1\n",
    "with tf.name_scope('C1_Conv'):\n",
    "    W1 = weight([5, 5, 1, 16]) # 5*5 filter size 1: number of input 16: 16 num of output\n",
    "    b1 = bias([16])\n",
    "    Conv1 = conv2d(x_image, W1) + b1\n",
    "    C1_Conv = tf.nn.relu(Conv1)\n",
    "    \n",
    "# POOL 1\n",
    "with tf.name_scope('C1_Pool'):\n",
    "    C1_Pool = max_pool_2x2(C1_Conv)\n",
    "    \n",
    "\n",
    "# Conv2\n",
    "with tf.name_scope('C2_Conv'):\n",
    "    W2 = weight([5, 5, 16, 36]) # 5*5 filter size 1: gray 16: 16 num of filter\n",
    "    b2 = bias([36])\n",
    "    Conv2 = conv2d(C1_Pool, W2) + b2\n",
    "    C2_Conv = tf.nn.relu(Conv2)\n",
    "    \n",
    "# POOL 2\n",
    "with tf.name_scope('C2_Pool'):\n",
    "    C2_Pool = max_pool_2x2(C2_Conv)\n",
    "    \n",
    "# Flatten\n",
    "with tf.name_scope('D_Flat'):\n",
    "    D_Flat = tf.reshape(C2_Pool, [-1, 1764]) # 36*7*7=1764\n",
    "    \n",
    "# Hidden Layer\n",
    "with tf.name_scope(\"D_Hidden_layer\"):\n",
    "    W3 = weight([1764, 128])\n",
    "    b3 = bias([128])\n",
    "    D_Hidden = tf.nn.relu(tf.matmul(D_Flat, W3) + b3)\n",
    "    D_Hidden_Dropout = tf.nn.dropout(D_Hidden, keep_prob=0.8)\n",
    "              \n",
    "# Output layer\n",
    "with tf.name_scope('Output_layer'):\n",
    "    W4 = weight([128, 10])\n",
    "    b4 = bias([10])\n",
    "    y_predict = tf.nn.softmax(tf.matmul(D_Hidden_Dropout, W4) + b4)\n",
    "    \n",
    "# Optimizer\n",
    "with tf.name_scope('optimizer'):\n",
    "    y_labels = tf.placeholder(\"float\", shape=[None, 10], name=\"y_label\")\n",
    "    \n",
    "    loss_function = tf.reduce_mean(\n",
    "                        tf.nn.softmax_cross_entropy_with_logits(logits=y_predict,\n",
    "                                                                labels=y_labels))\n",
    "    optimizer = tf.train.AdamOptimizer(learning_rate=0.0001)\\\n",
    "                        .minimize(loss_function)\n",
    "    \n",
    "# Evalute\n",
    "with tf.name_scope('evaluate_model'):\n",
    "    correct_prediction = tf.equal(tf.argmax(y_predict, 1), \n",
    "                                  tf.argmax(y_labels, 1))\n",
    "    accuracy = tf.reduce_mean(tf.cast(correct_prediction, \"float\"))"
   ]
  },
  {
   "cell_type": "markdown",
   "metadata": {},
   "source": [
    "## Training"
   ]
  },
  {
   "cell_type": "code",
   "execution_count": 5,
   "metadata": {},
   "outputs": [
    {
     "name": "stdout",
     "output_type": "stream",
     "text": [
      "Train Epoch: 01 Loss= 1.649843335 Accuracy= 0.8284\n",
      "Train Epoch: 02 Loss= 1.614645481 Accuracy= 0.854\n",
      "Train Epoch: 03 Loss= 1.534785390 Accuracy= 0.9384\n",
      "Train Epoch: 04 Loss= 1.511647701 Accuracy= 0.954\n",
      "Train Epoch: 05 Loss= 1.503637910 Accuracy= 0.963\n",
      "Train Epoch: 06 Loss= 1.498201251 Accuracy= 0.9674\n",
      "Train Epoch: 07 Loss= 1.494311333 Accuracy= 0.971\n",
      "Train Epoch: 08 Loss= 1.491357088 Accuracy= 0.9744\n",
      "Train Epoch: 09 Loss= 1.490388632 Accuracy= 0.9732\n",
      "Train Epoch: 10 Loss= 1.487350821 Accuracy= 0.9774\n",
      "Train Epoch: 11 Loss= 1.485798001 Accuracy= 0.9778\n",
      "Train Epoch: 12 Loss= 1.483962178 Accuracy= 0.9794\n",
      "Train Epoch: 13 Loss= 1.484058619 Accuracy= 0.9788\n",
      "Train Epoch: 14 Loss= 1.481833935 Accuracy= 0.9818\n",
      "Train Epoch: 15 Loss= 1.481548071 Accuracy= 0.9818\n",
      "Train Epoch: 16 Loss= 1.480976582 Accuracy= 0.982\n",
      "Train Epoch: 17 Loss= 1.481394529 Accuracy= 0.9806\n",
      "Train Epoch: 18 Loss= 1.477777958 Accuracy= 0.9842\n",
      "Train Epoch: 19 Loss= 1.477643609 Accuracy= 0.9848\n",
      "Train Epoch: 20 Loss= 1.477036715 Accuracy= 0.9856\n",
      "Train Epoch: 21 Loss= 1.478183389 Accuracy= 0.985\n",
      "Train Epoch: 22 Loss= 1.478110194 Accuracy= 0.984\n",
      "Train Epoch: 23 Loss= 1.476936340 Accuracy= 0.9854\n",
      "Train Epoch: 24 Loss= 1.477484345 Accuracy= 0.9848\n",
      "Train Epoch: 25 Loss= 1.475981712 Accuracy= 0.986\n",
      "Train Epoch: 26 Loss= 1.475383162 Accuracy= 0.987\n",
      "Train Epoch: 27 Loss= 1.475108862 Accuracy= 0.987\n",
      "Train Epoch: 28 Loss= 1.476195216 Accuracy= 0.9858\n",
      "Train Epoch: 29 Loss= 1.475431085 Accuracy= 0.987\n",
      "Train Epoch: 30 Loss= 1.473583817 Accuracy= 0.989\n",
      "training time :  1138.0975937843323\n"
     ]
    }
   ],
   "source": [
    "trainEpochs = 30\n",
    "batchSize = 100\n",
    "totalBatchs = int(mnist.train.num_examples / batchSize)\n",
    "epoch_list = [];\n",
    "accuracy_list = [];\n",
    "loss_list = [];\n",
    "from time import time\n",
    "startTime = time()\n",
    "sess = tf.Session()\n",
    "sess.run(tf.global_variables_initializer())\n",
    "\n",
    "for epoch in range(trainEpochs):\n",
    "    for i in range(totalBatchs):\n",
    "        batch_x, batch_y = mnist.train.next_batch(batchSize)\n",
    "        sess.run(optimizer, feed_dict={x:batch_x, y_labels:batch_y})\n",
    "    \n",
    "    loss, acc = sess.run([loss_function, accuracy],\n",
    "                        feed_dict={x: mnist.validation.images,\n",
    "                                   y_labels: mnist.validation.labels})\n",
    "    \n",
    "    epoch_list.append(epoch)\n",
    "    loss_list.append(loss)\n",
    "    accuracy_list.append(acc)\n",
    "    print(\"Train Epoch:\", '%02d' % (epoch+1), \"Loss=\", \\\n",
    "          \"{:.9f}\".format(loss), \"Accuracy=\", acc)\n",
    "    \n",
    "duration = time() - startTime\n",
    "print(\"training time : \", duration)"
   ]
  },
  {
   "cell_type": "code",
   "execution_count": 11,
   "metadata": {},
   "outputs": [
    {
     "data": {
      "image/png": "[encoded data removed]",
      "text/plain": [
       "<Figure size 432x288 with 1 Axes>"
      ]
     },
     "metadata": {},
     "output_type": "display_data"
    }
   ],
   "source": [
    "# draw the loss and acc pic\n",
    "import matplotlib.pyplot as plt\n",
    "\n",
    "def show_train_history(epoch_list, loss_list, acc_list):\n",
    "    plt.plot(epoch_list, loss_list, label=\"loss\")\n",
    "    plt.plot(epoch_list, acc_list, label=\"acc\")\n",
    "    plt.title('Train History')\n",
    "    plt.ylabel('percent')\n",
    "    plt.xlabel('Epoch')\n",
    "    plt.legend(['loss', 'acc'], loc='upper left')\n",
    "    plt.show()\n",
    "\n",
    "show_train_history(epoch_list, loss_list, accuracy_list)"
   ]
  },
  {
   "cell_type": "markdown",
   "metadata": {},
   "source": [
    "## Evalute Model Accuracy by test"
   ]
  },
  {
   "cell_type": "code",
   "execution_count": 12,
   "metadata": {},
   "outputs": [
    {
     "name": "stdout",
     "output_type": "stream",
     "text": [
      "Accuracy: 0.9863\n"
     ]
    }
   ],
   "source": [
    "print(\"Accuracy:\",\\\n",
    "      sess.run(accuracy, feed_dict={x:mnist.test.images,\n",
    "                                    y_labels: mnist.test.labels}))"
   ]
  },
  {
   "cell_type": "markdown",
   "metadata": {},
   "source": [
    "## Predict"
   ]
  },
  {
   "cell_type": "code",
   "execution_count": 15,
   "metadata": {},
   "outputs": [],
   "source": [
    "prediction_result = sess.run(tf.argmax(y_predict, 1),\n",
    "                             feed_dict={x: mnist.test.images,\n",
    "                                        y_labels: mnist.test.labels})"
   ]
  },
  {
   "cell_type": "code",
   "execution_count": 16,
   "metadata": {},
   "outputs": [
    {
     "data": {
      "text/plain": [
       "array([7, 2, 1, 0, 4, 1, 4, 9, 5, 9])"
      ]
     },
     "execution_count": 16,
     "metadata": {},
     "output_type": "execute_result"
    }
   ],
   "source": [
    "prediction_result[:10]"
   ]
  },
  {
   "cell_type": "markdown",
   "metadata": {},
   "source": [
    "## TensorBoard"
   ]
  },
  {
   "cell_type": "code",
   "execution_count": 17,
   "metadata": {},
   "outputs": [],
   "source": [
    "merged = tf.summary.merge_all()\n",
    "train_writer = tf.summary.FileWriter('CNN', sess.graph)"
   ]
  },
  {
   "cell_type": "code",
   "execution_count": null,
   "metadata": {},
   "outputs": [],
   "source": []
  }
 ],
 "metadata": {
  "kernelspec": {
   "display_name": "Python 3",
   "language": "python",
   "name": "python3"
  },
  "language_info": {
   "codemirror_mode": {
    "name": "ipython",
    "version": 3
   },
   "file_extension": ".py",
   "mimetype": "text/x-python",
   "name": "python",
   "nbconvert_exporter": "python",
   "pygments_lexer": "ipython3",
   "version": "3.6.5"
  }
 },
 "nbformat": 4,
 "nbformat_minor": 2
}
